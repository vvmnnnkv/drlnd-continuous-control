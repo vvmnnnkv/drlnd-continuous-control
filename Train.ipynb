{
 "cells": [
  {
   "cell_type": "markdown",
   "metadata": {},
   "source": [
    "# Train Continuous Control Agent for Reacher Environment\n",
    "\n",
    "---\n",
    "\n",
    "In this notebook, we'll train agent using DDPG algorithm.\n",
    "We begin by importing some necessary packages and starting the environment.\n",
    "If the code cell below returns an error, please revisit installation instructions given in the README.md."
   ]
  },
  {
   "cell_type": "code",
   "execution_count": 1,
   "metadata": {},
   "outputs": [
    {
     "name": "stderr",
     "output_type": "stream",
     "text": [
      "INFO:unityagents:\n",
      "'Academy' started successfully!\n",
      "Unity Academy name: Academy\n",
      "        Number of Brains: 1\n",
      "        Number of External Brains : 1\n",
      "        Lesson number : 0\n",
      "        Reset Parameters :\n",
      "\t\tgoal_speed -> 1.0\n",
      "\t\tgoal_size -> 5.0\n",
      "Unity brain name: ReacherBrain\n",
      "        Number of Visual Observations (per agent): 0\n",
      "        Vector Observation space type: continuous\n",
      "        Vector Observation space size (per agent): 33\n",
      "        Number of stacked Vector Observation: 1\n",
      "        Vector Action space type: continuous\n",
      "        Vector Action space size (per agent): 4\n",
      "        Vector Action descriptions: , , , \n"
     ]
    },
    {
     "name": "stdout",
     "output_type": "stream",
     "text": [
      "Number of agents: 20\n",
      "Size of each action: 4\n",
      "There are 20 agents. Each observes a state with length: 33\n",
      "The state for the first agent looks like: [ 0.00000000e+00 -4.00000000e+00  0.00000000e+00  1.00000000e+00\n",
      " -0.00000000e+00 -0.00000000e+00 -4.37113883e-08  0.00000000e+00\n",
      "  0.00000000e+00  0.00000000e+00  0.00000000e+00  0.00000000e+00\n",
      "  0.00000000e+00  0.00000000e+00 -1.00000000e+01  0.00000000e+00\n",
      "  1.00000000e+00 -0.00000000e+00 -0.00000000e+00 -4.37113883e-08\n",
      "  0.00000000e+00  0.00000000e+00  0.00000000e+00  0.00000000e+00\n",
      "  0.00000000e+00  0.00000000e+00  5.75471878e+00 -1.00000000e+00\n",
      "  5.55726624e+00  0.00000000e+00  1.00000000e+00  0.00000000e+00\n",
      " -1.68164849e-01]\n"
     ]
    }
   ],
   "source": [
    "from unityagents import UnityEnvironment\n",
    "import numpy as np\n",
    "import torch\n",
    "from collections import deque\n",
    "import matplotlib.pyplot as plt\n",
    "%matplotlib inline\n",
    "%load_ext autoreload\n",
    "%autoreload 2\n",
    "\n",
    "env = UnityEnvironment(file_name='Reacher_Windows_x86_64/Reacher.exe')\n",
    "\n",
    "# get the default brain\n",
    "brain_name = env.brain_names[0]\n",
    "brain = env.brains[brain_name]\n",
    "\n",
    "# reset the environment\n",
    "env_info = env.reset(train_mode=True)[brain_name]\n",
    "\n",
    "# number of agents\n",
    "num_agents = len(env_info.agents)\n",
    "print('Number of agents:', num_agents)\n",
    "\n",
    "# size of each action\n",
    "action_size = brain.vector_action_space_size\n",
    "print('Size of each action:', action_size)\n",
    "\n",
    "# examine the state space \n",
    "states = env_info.vector_observations\n",
    "state_size = states.shape[1]\n",
    "print('There are {} agents. Each observes a state with length: {}'.format(states.shape[0], state_size))\n",
    "print('The state for the first agent looks like:', states[0])"
   ]
  },
  {
   "cell_type": "markdown",
   "metadata": {},
   "source": [
    "### 2. Train the Agent\n",
    "\n",
    "In the next code cell, we define training procedure."
   ]
  },
  {
   "cell_type": "code",
   "execution_count": 2,
   "metadata": {},
   "outputs": [],
   "source": [
    "def train(env, brain_name, agent, target_avg_score=30, avg_window=100, update_every=20, update_cycles=20, eps_decay=0.999, eps_end=0.3, print_every=10):\n",
    "    scores_deque = deque(maxlen=avg_window)\n",
    "    scores = []\n",
    "    eps = 1\n",
    "    for i_episode in range(1, 1000):\n",
    "        env_info = env.reset(train_mode=True)[brain_name]\n",
    "        states = env_info.vector_observations\n",
    "        agent.reset()\n",
    "        score = 0\n",
    "        step = 0\n",
    "        while True:\n",
    "            # act\n",
    "            actions = agent.act(states, noise_strength=eps)\n",
    "            env_info = env.step(actions)[brain_name]\n",
    "            # record action results\n",
    "            next_states, rewards, dones = (env_info.vector_observations, env_info.rewards, env_info.local_done)\n",
    "            agent.memorize(states, actions, rewards, next_states, dones)\n",
    "            # each N steps, learn from recorded experiences\n",
    "            if step % update_every == 0:\n",
    "                agent.train(iterations=update_cycles)\n",
    "            states = next_states\n",
    "            # mean of all agents' scores\n",
    "            score += np.mean(rewards)\n",
    "            step += 1\n",
    "            if np.any(dones):\n",
    "                break\n",
    "\n",
    "        scores_deque.append(score)\n",
    "        scores.append(score)\n",
    "        # mean over 'avg_window' episodes\n",
    "        avg_score = np.mean(scores_deque)\n",
    "        # update noise level\n",
    "        eps = max(eps_end, eps * eps_decay)\n",
    "        if i_episode % print_every == 0:\n",
    "            print('\\rEpisode {}\\tNoise: {:.4f}\\tLast Score: {:.2f}\\tAverage Score: {:.2f}'.format(i_episode, eps, score, avg_score))\n",
    "        if avg_score >= target_avg_score:\n",
    "            print('\\nEnvironment solved in {:d} episodes!\\tAverage Score: {:.2f}'.format(i_episode, avg_score))\n",
    "            torch.save(agent.actor_local.state_dict(), 'checkpoint_actor.pth')\n",
    "            torch.save(agent.critic_local.state_dict(), 'checkpoint_critic.pth')\n",
    "            break\n",
    "    return scores\n",
    "\n"
   ]
  },
  {
   "cell_type": "markdown",
   "metadata": {},
   "source": [
    "#### Start Training\n",
    "\n",
    "Import agent code and run training procedure defined earlier."
   ]
  },
  {
   "cell_type": "code",
   "execution_count": 3,
   "metadata": {},
   "outputs": [
    {
     "name": "stdout",
     "output_type": "stream",
     "text": [
      "Episode 10\tNoise: 0.9900\tLast Score: 1.02\tAverage Score: 0.59\n",
      "Episode 20\tNoise: 0.9802\tLast Score: 5.93\tAverage Score: 2.15\n",
      "Episode 30\tNoise: 0.9704\tLast Score: 12.72\tAverage Score: 4.98\n",
      "Episode 40\tNoise: 0.9608\tLast Score: 22.10\tAverage Score: 9.52\n",
      "Episode 50\tNoise: 0.9512\tLast Score: 27.60\tAverage Score: 13.01\n",
      "Episode 60\tNoise: 0.9417\tLast Score: 34.86\tAverage Score: 16.65\n",
      "Episode 70\tNoise: 0.9324\tLast Score: 35.35\tAverage Score: 19.37\n",
      "Episode 80\tNoise: 0.9231\tLast Score: 33.87\tAverage Score: 20.70\n",
      "Episode 90\tNoise: 0.9139\tLast Score: 21.31\tAverage Score: 21.66\n",
      "Episode 100\tNoise: 0.9048\tLast Score: 20.37\tAverage Score: 22.32\n",
      "Episode 110\tNoise: 0.8958\tLast Score: 34.35\tAverage Score: 25.89\n",
      "Episode 120\tNoise: 0.8869\tLast Score: 29.51\tAverage Score: 28.67\n",
      "\n",
      "Environment solved in 126 episodes!\tAverage Score: 30.08\n"
     ]
    }
   ],
   "source": [
    "# Import agent from 'src' folder.\n",
    "import sys\n",
    "sys.path.insert(0, 'src')\n",
    "from ddpg_agent import Agent\n",
    "\n",
    "agent = Agent(state_size=state_size, action_size=action_size, random_seed=0)\n",
    "scores = train(env, brain_name, agent)"
   ]
  },
  {
   "cell_type": "markdown",
   "metadata": {},
   "source": [
    "#### Plot Scores"
   ]
  },
  {
   "cell_type": "code",
   "execution_count": 4,
   "metadata": {},
   "outputs": [
    {
     "data": {
      "image/png": "[encoded data removed]",
      "text/plain": [
       "<Figure size 432x288 with 1 Axes>"
      ]
     },
     "metadata": {
      "needs_background": "light"
     },
     "output_type": "display_data"
    }
   ],
   "source": [
    "# Calculate average scores over 100 episodes\n",
    "window = 100\n",
    "avg_scores = []\n",
    "for i in range(len(scores) - window):\n",
    "    avg_scores.append(np.mean(scores[i:i + window]))\n",
    "    \n",
    "# Plot the scores and average\n",
    "fig = plt.figure()\n",
    "plt.plot(np.arange(len(scores)), scores)\n",
    "plt.plot(np.arange(window, len(avg_scores) + window), avg_scores)\n",
    "plt.ylabel('Score')\n",
    "plt.xlabel('Episode #')\n",
    "plt.show()"
   ]
  },
  {
   "cell_type": "markdown",
   "metadata": {},
   "source": [
    "When finished, you can close the environment."
   ]
  },
  {
   "cell_type": "code",
   "execution_count": 5,
   "metadata": {},
   "outputs": [],
   "source": [
    "env.close()"
   ]
  },
  {
   "cell_type": "code",
   "execution_count": null,
   "metadata": {},
   "outputs": [],
   "source": []
  }
 ],
 "metadata": {
  "kernelspec": {
   "display_name": "Python 3",
   "language": "python",
   "name": "python3"
  },
  "language_info": {
   "codemirror_mode": {
    "name": "ipython",
    "version": 3
   },
   "file_extension": ".py",
   "mimetype": "text/x-python",
   "name": "python",
   "nbconvert_exporter": "python",
   "pygments_lexer": "ipython3",
   "version": "3.6.9"
  }
 },
 "nbformat": 4,
 "nbformat_minor": 2
}
